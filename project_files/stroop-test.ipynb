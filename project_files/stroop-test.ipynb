{
 "cells": [
  {
   "cell_type": "markdown",
   "metadata": {},
   "source": [
    "# Stroop Test"
   ]
  },
  {
   "cell_type": "markdown",
   "metadata": {},
   "source": [
    "Project description can be found [here](https://docs.google.com/document/d/1-OkpZLjG_kX9J6LIQ5IltsqMzVWjh36QpnP2RYpVdPU/pub?embedded=True)."
   ]
  },
  {
   "cell_type": "markdown",
   "metadata": {},
   "source": [
    "**Q1: What is our independent variable? What is our dependent variable?**\n",
    "\n",
    "**Answer:**\n",
    "\n",
    "Independent variable - the two conditions: *congruent words* and *incongruent words*.\n",
    "\n",
    "Dependent variable - the time it takes to name the ink colors in equally-sized lists under each condition."
   ]
  },
  {
   "cell_type": "markdown",
   "metadata": {},
   "source": [
    "**Q2: What is an appropriate set of hypotheses for this task? What kind of statistical test do you expect to perform? Justify your choices.**\n",
    "\n",
    "**Answer:**\n",
    "\n",
    "Based on the two samples, our null hypothesis can be worded as follows: the population average time it takes to name the ink colors under the congruent words condition doesn't differ from the population average time it takes to name the ink colors under the incongruent words condition. In mathematical notation, it would look like this:\n",
    "\n",
    "$H_0: \\mu_{cw} = \\mu_{iw}$\n",
    "\n",
    "or\n",
    "\n",
    "$H_0: \\mu_{cw} - \\mu_{iw} = 0$, where:\n",
    "\n",
    "$H_0$ - null hypothesis\n",
    "\n",
    "$\\mu_{cw}$ - the population average time it takes to name the ink colors under the congruent words condition\n",
    "\n",
    "$\\mu_{iw}$ - the population average time it takes to name the ink colors under the incongruent words condition\n",
    "\n",
    "\n",
    "The alternative hypothesis can be either two-tailed (non-directional) or one-tailed (directional). A two-tailed one would just mean that the two population average times are different, that is $\\mu_{cw} \\ne \\mu_{iw}$. However, I believe that, presented with incongruent words, the brain will need to do an additional check to see if the written and displayed colors match and make necessary corrections if they don't before the person names the final color, which naturally would take some time. Thus, it would be more interesting to test our null hypothesis against a one-sided one, stating that, on average, it takes more time to name the ink colors under the incongruent words condition than it does under the congruent words condition. Now to the math notation:\n",
    "\n",
    "$H_a: \\mu_{iw} \\gt \\mu_{cw}$ \n",
    "\n",
    "or\n",
    "\n",
    "$H_a: \\mu_{iw} - \\mu_{cw} \\gt 0$, where\n",
    "\n",
    "$H_a$ - alternative hypothesis\n",
    "\n",
    "$\\mu_{cw}$, $\\mu_{iw}$ - population average times explained above\n",
    "\n",
    "To sum it all up, we'll be checking our null hypothesis against a one-tailed directional one using the dependent t-test for paired samples since we're dealing with the repeated measures design and the two measurements come from the same people. The z-test is not applicable to this problem, because the population parameters (mean and standard deviation) are unknown and we're reduced to simply making inferences about them based on the samples given; moreover, sample sizes are relatively small (24 data points), which makes the t-test a more suitable choice. The t-test assumes that the samples were selected from a normally distributed population, an assumption that seems to be corroborated by the visualizations below."
   ]
  },
  {
   "cell_type": "code",
   "execution_count": 1,
   "metadata": {
    "collapsed": true
   },
   "outputs": [],
   "source": [
    "# loading necessary libraries\n",
    "import pandas as pd\n",
    "import numpy as np\n",
    "import matplotlib.pyplot as plt\n",
    "%matplotlib inline"
   ]
  },
  {
   "cell_type": "code",
   "execution_count": 2,
   "metadata": {
    "collapsed": false
   },
   "outputs": [],
   "source": [
    "stroop = pd.read_csv('../data/stroopdata.csv')"
   ]
  },
  {
   "cell_type": "code",
   "execution_count": 3,
   "metadata": {
    "collapsed": false
   },
   "outputs": [
    {
     "data": {
      "text/html": [
       "<div>\n",
       "<table border=\"1\" class=\"dataframe\">\n",
       "  <thead>\n",
       "    <tr style=\"text-align: right;\">\n",
       "      <th></th>\n",
       "      <th>Congruent</th>\n",
       "      <th>Incongruent</th>\n",
       "    </tr>\n",
       "  </thead>\n",
       "  <tbody>\n",
       "    <tr>\n",
       "      <th>0</th>\n",
       "      <td>12.079</td>\n",
       "      <td>19.278</td>\n",
       "    </tr>\n",
       "    <tr>\n",
       "      <th>1</th>\n",
       "      <td>16.791</td>\n",
       "      <td>18.741</td>\n",
       "    </tr>\n",
       "    <tr>\n",
       "      <th>2</th>\n",
       "      <td>9.564</td>\n",
       "      <td>21.214</td>\n",
       "    </tr>\n",
       "    <tr>\n",
       "      <th>3</th>\n",
       "      <td>8.630</td>\n",
       "      <td>15.687</td>\n",
       "    </tr>\n",
       "    <tr>\n",
       "      <th>4</th>\n",
       "      <td>14.669</td>\n",
       "      <td>22.803</td>\n",
       "    </tr>\n",
       "  </tbody>\n",
       "</table>\n",
       "</div>"
      ],
      "text/plain": [
       "   Congruent  Incongruent\n",
       "0     12.079       19.278\n",
       "1     16.791       18.741\n",
       "2      9.564       21.214\n",
       "3      8.630       15.687\n",
       "4     14.669       22.803"
      ]
     },
     "execution_count": 3,
     "metadata": {},
     "output_type": "execute_result"
    }
   ],
   "source": [
    "stroop.head()"
   ]
  },
  {
   "cell_type": "code",
   "execution_count": 29,
   "metadata": {
    "collapsed": false
   },
   "outputs": [
    {
     "data": {
      "text/html": [
       "<div>\n",
       "<table border=\"1\" class=\"dataframe\">\n",
       "  <thead>\n",
       "    <tr style=\"text-align: right;\">\n",
       "      <th></th>\n",
       "      <th>Congruent</th>\n",
       "      <th>Incongruent</th>\n",
       "    </tr>\n",
       "  </thead>\n",
       "  <tbody>\n",
       "    <tr>\n",
       "      <th>count</th>\n",
       "      <td>24.000000</td>\n",
       "      <td>24.000000</td>\n",
       "    </tr>\n",
       "    <tr>\n",
       "      <th>mean</th>\n",
       "      <td>14.051125</td>\n",
       "      <td>22.015917</td>\n",
       "    </tr>\n",
       "    <tr>\n",
       "      <th>std</th>\n",
       "      <td>3.559358</td>\n",
       "      <td>4.797057</td>\n",
       "    </tr>\n",
       "    <tr>\n",
       "      <th>min</th>\n",
       "      <td>8.630000</td>\n",
       "      <td>15.687000</td>\n",
       "    </tr>\n",
       "    <tr>\n",
       "      <th>25%</th>\n",
       "      <td>11.895250</td>\n",
       "      <td>18.716750</td>\n",
       "    </tr>\n",
       "    <tr>\n",
       "      <th>50%</th>\n",
       "      <td>14.356500</td>\n",
       "      <td>21.017500</td>\n",
       "    </tr>\n",
       "    <tr>\n",
       "      <th>75%</th>\n",
       "      <td>16.200750</td>\n",
       "      <td>24.051500</td>\n",
       "    </tr>\n",
       "    <tr>\n",
       "      <th>max</th>\n",
       "      <td>22.328000</td>\n",
       "      <td>35.255000</td>\n",
       "    </tr>\n",
       "  </tbody>\n",
       "</table>\n",
       "</div>"
      ],
      "text/plain": [
       "       Congruent  Incongruent\n",
       "count  24.000000    24.000000\n",
       "mean   14.051125    22.015917\n",
       "std     3.559358     4.797057\n",
       "min     8.630000    15.687000\n",
       "25%    11.895250    18.716750\n",
       "50%    14.356500    21.017500\n",
       "75%    16.200750    24.051500\n",
       "max    22.328000    35.255000"
      ]
     },
     "execution_count": 29,
     "metadata": {},
     "output_type": "execute_result"
    }
   ],
   "source": [
    "# let's see some statistics about our dataset\n",
    "stroop.describe()"
   ]
  },
  {
   "cell_type": "code",
   "execution_count": 82,
   "metadata": {
    "collapsed": false
   },
   "outputs": [
    {
     "name": "stdout",
     "output_type": "stream",
     "text": [
      "median time for the congruent words condition is 14.3565 seconds\n",
      "median time for the incongruent words condition is 21.0175 seconds\n"
     ]
    }
   ],
   "source": [
    "print 'median time for the congruent words condition is {} seconds'.format(stroop.Congruent.median())\n",
    "print 'median time for the incongruent words condition is {} seconds'.format(stroop.Incongruent.median())"
   ]
  },
  {
   "cell_type": "code",
   "execution_count": 70,
   "metadata": {
    "collapsed": false
   },
   "outputs": [
    {
     "name": "stdout",
     "output_type": "stream",
     "text": [
      "Congruent sample size is 24\n",
      "Incongruent sample size is 24\n"
     ]
    }
   ],
   "source": [
    "print 'Congruent sample size is', len(stroop.Congruent.unique())\n",
    "print 'Incongruent sample size is', len(stroop.Incongruent.unique())"
   ]
  },
  {
   "cell_type": "markdown",
   "metadata": {},
   "source": [
    "**Q3: Report some descriptive statistics regarding this dataset. Include at least one measure of central tendency and at least one measure of variability.**\n",
    "\n",
    "**Answer:**\n",
    "\n",
    "The size of both samples is 24 (which is to be expected: these are paired samples), so we have 23 degrees of freedom in this case. Since each of the 24 data points in the two samples is unique, it makes no sense to report the mode, so we'll do with the median and the mean. \n",
    "\n",
    "For the **Congruent** sample, **the mean is 14.051125** and **the median is 14.3565**. For the **Incongruent** sample, **the mean is 22.015917** and **the median is 21.0175**.\n",
    "\n",
    "As, by default, the **describe()** method reports the standard deviation for **n - 1** degrees of freedom (which is the standard deviation of a sample used to assess the population standard deviation), we can use this measure as well. So, for the **Congruent** sample, **the standard deviation is 3.559358**; for the **Incongruent** sample, **the standard deviation is 4.797057**."
   ]
  },
  {
   "cell_type": "markdown",
   "metadata": {},
   "source": [
    "**Q4: Provide one or two visualizations that show the distribution of the sample data. Write one or two sentences noting what you observe about the plot or plots.**\n",
    "\n",
    "**Answer:**"
   ]
  },
  {
   "cell_type": "code",
   "execution_count": 73,
   "metadata": {
    "collapsed": false
   },
   "outputs": [
    {
     "data": {
      "image/png": "[encoded data removed]",
      "text/plain": [
       "<matplotlib.figure.Figure at 0xcca39e8>"
      ]
     },
     "metadata": {},
     "output_type": "display_data"
    }
   ],
   "source": [
    "plt.hist(stroop.Congruent, bins=8)\n",
    "plt.xlabel('Test Time')\n",
    "plt.ylabel('Frequency')\n",
    "plt.title('Distribution of Congruent Words Test Time')\n",
    "plt.show()"
   ]
  },
  {
   "cell_type": "code",
   "execution_count": 49,
   "metadata": {
    "collapsed": false
   },
   "outputs": [
    {
     "data": {
      "image/png": "[encoded data removed]",
      "text/plain": [
       "<matplotlib.figure.Figure at 0xbad9d30>"
      ]
     },
     "metadata": {},
     "output_type": "display_data"
    }
   ],
   "source": [
    "plt.boxplot(stroop.Congruent)\n",
    "plt.title('Congruent Words Test Time')\n",
    "plt.show()"
   ]
  },
  {
   "cell_type": "code",
   "execution_count": 76,
   "metadata": {
    "collapsed": false
   },
   "outputs": [
    {
     "data": {
      "image/png": "[encoded data removed]",
      "text/plain": [
       "<matplotlib.figure.Figure at 0xc47c630>"
      ]
     },
     "metadata": {},
     "output_type": "display_data"
    }
   ],
   "source": [
    "plt.hist(stroop.Incongruent, bins=8)\n",
    "plt.xlabel('Test Time')\n",
    "plt.ylabel('Frequency')\n",
    "plt.title('Distribution of Incongruent Words Test Time')\n",
    "plt.show()"
   ]
  },
  {
   "cell_type": "code",
   "execution_count": 46,
   "metadata": {
    "collapsed": false
   },
   "outputs": [
    {
     "data": {
      "image/png": "[encoded data removed]",
      "text/plain": [
       "<matplotlib.figure.Figure at 0xb924710>"
      ]
     },
     "metadata": {},
     "output_type": "display_data"
    }
   ],
   "source": [
    "plt.boxplot(stroop.Incongruent)\n",
    "plt.title('Incongruent Words Test Time')\n",
    "plt.show()"
   ]
  },
  {
   "cell_type": "code",
   "execution_count": 80,
   "metadata": {
    "collapsed": false
   },
   "outputs": [
    {
     "data": {
      "image/png": "[encoded data removed]",
      "text/plain": [
       "<matplotlib.figure.Figure at 0xb68af60>"
      ]
     },
     "metadata": {},
     "output_type": "display_data"
    }
   ],
   "source": [
    "# histogram without outliers\n",
    "plt.hist(stroop.Incongruent[stroop.Incongruent < 30], bins=11)\n",
    "plt.xlabel('Test Time')\n",
    "plt.ylabel('Frequency')\n",
    "plt.title('Distribution of Incongruent Words Test Time')\n",
    "plt.show()"
   ]
  },
  {
   "cell_type": "code",
   "execution_count": 44,
   "metadata": {
    "collapsed": false
   },
   "outputs": [
    {
     "data": {
      "text/plain": [
       "<matplotlib.axes._subplots.AxesSubplot at 0xb289550>"
      ]
     },
     "execution_count": 44,
     "metadata": {},
     "output_type": "execute_result"
    },
    {
     "data": {
      "image/png": "[encoded data removed]",
      "text/plain": [
       "<matplotlib.figure.Figure at 0xaa3def0>"
      ]
     },
     "metadata": {},
     "output_type": "display_data"
    }
   ],
   "source": [
    "# two boxplots in one figure for convenience\n",
    "stroop.boxplot(return_type='axes')"
   ]
  },
  {
   "cell_type": "markdown",
   "metadata": {},
   "source": [
    "If we compare the two histograms, we'll see the data points in the Congruent sample can better be approximated by the normal distribution, and there are no gaps between the bins. At the same time, it's obvious the Incongruent sample contains 2 outliers sitting at around 35, which is supported by the boxplot that clearly marks theses points with crosses as outliers. After we build a new histogram with the outliers excluded, the graph looks better and can now also be approximated by the normal distribution. "
   ]
  },
  {
   "cell_type": "code",
   "execution_count": 57,
   "metadata": {
    "collapsed": false
   },
   "outputs": [
    {
     "data": {
      "image/png": "[encoded data removed]",
      "text/plain": [
       "<matplotlib.figure.Figure at 0xbc06d68>"
      ]
     },
     "metadata": {},
     "output_type": "display_data"
    }
   ],
   "source": [
    "plt.scatter(stroop.Congruent, stroop.Incongruent, label='CW vs IW Test Time')\n",
    "plt.xlabel('Congruent Words Test Time')\n",
    "plt.ylabel('Incongruent Words Test Time')\n",
    "plt.title('CW Test Time vs IW Test Time Scatterplot')\n",
    "plt.plot(stroop.Congruent, np.poly1d(np.polyfit(stroop.Congruent, stroop.Incongruent, 1))(stroop.Congruent),\n",
    "         color='red', label='Line of best fit')\n",
    "plt.legend(loc=4)\n",
    "plt.show()"
   ]
  },
  {
   "cell_type": "markdown",
   "metadata": {},
   "source": [
    "Finally, a scatterplot shows an interesting, seemingly linear (as demonstrated by the line of best fit), relationship between the two samples. It looks like the longer it takes a person to name the ink colors under the congruent words condition, the more time they tend to spend naming the ink colors under the incongruent words condition. Clearly, there are exceptions to this observation, but the general trend is quite discernible."
   ]
  },
  {
   "cell_type": "markdown",
   "metadata": {},
   "source": [
    "**Q5: Now, perform the statistical test and report your results. What is your confidence level and your critical statistic value? Do you reject the null hypothesis or fail to reject it? Come to a conclusion in terms of the experiment task. Did the results match up with your expectations?**\n",
    "\n",
    "**Answer:**\n",
    "\n",
    "Our point estimate for the difference between two means is 22.015917 - 14.051125 = **7.964792**, but we would still want to know how this compares to other differences, so we need to calculate the standard error of differences. But first let's find the standard deviation of the differences between the two samples."
   ]
  },
  {
   "cell_type": "code",
   "execution_count": 83,
   "metadata": {
    "collapsed": true
   },
   "outputs": [],
   "source": [
    "stroop['Difference'] = stroop.Incongruent - stroop.Congruent"
   ]
  },
  {
   "cell_type": "code",
   "execution_count": 85,
   "metadata": {
    "collapsed": false
   },
   "outputs": [
    {
     "data": {
      "text/html": [
       "<div>\n",
       "<table border=\"1\" class=\"dataframe\">\n",
       "  <thead>\n",
       "    <tr style=\"text-align: right;\">\n",
       "      <th></th>\n",
       "      <th>Congruent</th>\n",
       "      <th>Incongruent</th>\n",
       "      <th>Difference</th>\n",
       "    </tr>\n",
       "  </thead>\n",
       "  <tbody>\n",
       "    <tr>\n",
       "      <th>0</th>\n",
       "      <td>12.079</td>\n",
       "      <td>19.278</td>\n",
       "      <td>7.199</td>\n",
       "    </tr>\n",
       "    <tr>\n",
       "      <th>1</th>\n",
       "      <td>16.791</td>\n",
       "      <td>18.741</td>\n",
       "      <td>1.950</td>\n",
       "    </tr>\n",
       "    <tr>\n",
       "      <th>2</th>\n",
       "      <td>9.564</td>\n",
       "      <td>21.214</td>\n",
       "      <td>11.650</td>\n",
       "    </tr>\n",
       "  </tbody>\n",
       "</table>\n",
       "</div>"
      ],
      "text/plain": [
       "   Congruent  Incongruent  Difference\n",
       "0     12.079       19.278       7.199\n",
       "1     16.791       18.741       1.950\n",
       "2      9.564       21.214      11.650"
      ]
     },
     "execution_count": 85,
     "metadata": {},
     "output_type": "execute_result"
    }
   ],
   "source": [
    "# now we have a new column containing individual differences between the two samples\n",
    "stroop.head(3)"
   ]
  },
  {
   "cell_type": "code",
   "execution_count": 88,
   "metadata": {
    "collapsed": false
   },
   "outputs": [
    {
     "data": {
      "text/plain": [
       "4.864826910359056"
      ]
     },
     "execution_count": 88,
     "metadata": {},
     "output_type": "execute_result"
    }
   ],
   "source": [
    "stroop.Difference.std()"
   ]
  },
  {
   "cell_type": "markdown",
   "metadata": {},
   "source": [
    "Now that we know the standard deviation of the differences between the two samples, which is **4.864826910359056**, we can calculate the t-statistic: difference between two means divided by the the standard error of differences."
   ]
  },
  {
   "cell_type": "code",
   "execution_count": 89,
   "metadata": {
    "collapsed": false
   },
   "outputs": [
    {
     "name": "stdout",
     "output_type": "stream",
     "text": [
      "t-statistic is equal to 8.02070727978\n"
     ]
    }
   ],
   "source": [
    "t = 7.964792 / (4.864826910359056 / (24 ** .5))\n",
    "print 't-statistic is equal to', t"
   ]
  },
  {
   "cell_type": "markdown",
   "metadata": {},
   "source": [
    "The next step is to compare t value of **8.02070727978** to the t critical value that can be looked up in the t table. We'll use the $\\alpha$ level of 0.01 (which corresponds to 99% confidence). Given 23 degrees of freedom and a one-tailed t-test, the t critical value comes out to **2.500**. It means that we can reject our null hypothesis $H_0$ with **p-value of less than 0.00001** (as calculated by [this site](http://www.socscistatistics.com/pvalues/tdistribution.aspx)). In other words, it took participants significantly longer to name the ink colors under the incongruent words condition that it did under the congruent words condition. These findings are in line with the assumption we made before the test about the brain needing additional time to process color differences. \n",
    "\n",
    "Our margin of error is 2.500 \\* (4.864826910359056 / sqrt(24)), which is equal to **2.48257158**. To put it differently, on average,participants spent **between 5.48222 and 10.44736** seconds more trying to name the ink colors under the incongruent words condition."
   ]
  },
  {
   "cell_type": "markdown",
   "metadata": {},
   "source": [
    "Additionally, we can compute $r^2$, or the coefficient of determination, which, given t value of 8.02070727978 and 23 degrees of freedom, equals **0.73663**. That is, almost 74% of variance in test times can be attributed to the type of condition under which a participant was tested."
   ]
  },
  {
   "cell_type": "markdown",
   "metadata": {},
   "source": [
    "**Q6: Optional: What do you think is responsible for the effects observed? Can you think of an alternative or similar task that would result in a similar effect? Some research about the problem will be helpful for thinking about these two questions!**\n",
    "\n",
    "**Answer:**\n",
    "\n",
    "I guess this effect has to do with the speed with which the human brain processes different kinds of information. It can be assumed it takes less time to read a word than to perceive a color; hence additional time needed to name the ink color in the incongruent words test: the person first reads the name of the color, then sees the color itself, then compares the two, and only after that says the name of the color, whereas in the congruent words test it's enough for the person to read the name of the color to give the correct response.\n",
    "\n",
    "A similar task with a similar effect might be a test where participants are asked to compare two numbers. In the congruent part, a greater number is presented in a larger font; in the incongruent part, on the contrary, a smaller font is used for a greater number, which causes a certain degree of confusion and requires more time to process mentally."
   ]
  }
 ],
 "metadata": {
  "kernelspec": {
   "display_name": "Python 2",
   "language": "python",
   "name": "python2"
  },
  "language_info": {
   "codemirror_mode": {
    "name": "ipython",
    "version": 2
   },
   "file_extension": ".py",
   "mimetype": "text/x-python",
   "name": "python",
   "nbconvert_exporter": "python",
   "pygments_lexer": "ipython2",
   "version": "2.7.13"
  }
 },
 "nbformat": 4,
 "nbformat_minor": 0
}
